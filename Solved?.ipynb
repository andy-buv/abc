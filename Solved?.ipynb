{
 "cells": [
  {
   "cell_type": "markdown",
   "metadata": {},
   "source": [
    "https://github.com/Hamishpk/abc/blob/master/README.md\n",
    "\n",
    "Assume s is a string of lower case characters. Write a program that prints the longest substring of s in which the letters occur in alphabetical order. For example, if s = 'azcbobobegghakl', then your program should print Longest substring in alphabetical order is: beggh In the case of ties, print the first substring. For example, if s = 'abcbcd', then your program should print Longest substring in alphabetical order is: abc"
   ]
  },
  {
   "cell_type": "code",
   "execution_count": 2,
   "metadata": {
    "collapsed": false
   },
   "outputs": [],
   "source": [
    "def get_conseq(text):\n",
    "    alphabet = 'abcdefghijklmnopqrstuvwxyz'\n",
    "    s = text.lower()\n",
    "    first_char = s[0]\n",
    "    sub_alphabet = alphabet[alphabet.index(first_char):]\n",
    "    \n",
    "    if len(s) == 1:\n",
    "        return first_char\n",
    "    elif s[1] in sub_alphabet:\n",
    "        return first_char + get_conseq(s[1:])\n",
    "    else:\n",
    "        return first_char\n",
    "    \n",
    "def abc(text):\n",
    "    result = text[0]\n",
    "    for i in range(len(text)):\n",
    "        sub = text[i:]\n",
    "        found = get_conseq(sub)\n",
    "        # print(sub, found)\n",
    "        if len(found) > len(result):\n",
    "            result = found\n",
    "        else:\n",
    "            next\n",
    "    return result"
   ]
  },
  {
   "cell_type": "code",
   "execution_count": 3,
   "metadata": {
    "collapsed": false
   },
   "outputs": [
    {
     "data": {
      "text/plain": [
       "['beggh', 'abc']"
      ]
     },
     "execution_count": 3,
     "metadata": {},
     "output_type": "execute_result"
    }
   ],
   "source": [
    "test_cases = ['azcbobobegghakl', 'abcbcd']\n",
    "\n",
    "list(map(abc, test_cases))"
   ]
  },
  {
   "cell_type": "code",
   "execution_count": null,
   "metadata": {
    "collapsed": true
   },
   "outputs": [],
   "source": []
  }
 ],
 "metadata": {
  "kernelspec": {
   "display_name": "Python [conda root]",
   "language": "python",
   "name": "conda-root-py"
  },
  "language_info": {
   "codemirror_mode": {
    "name": "ipython",
    "version": 3
   },
   "file_extension": ".py",
   "mimetype": "text/x-python",
   "name": "python",
   "nbconvert_exporter": "python",
   "pygments_lexer": "ipython3",
   "version": "3.5.2"
  }
 },
 "nbformat": 4,
 "nbformat_minor": 2
}
